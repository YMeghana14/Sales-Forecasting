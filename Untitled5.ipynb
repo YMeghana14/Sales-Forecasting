{
  "nbformat": 4,
  "nbformat_minor": 0,
  "metadata": {
    "colab": {
      "name": "Untitled5.ipynb",
      "provenance": []
    },
    "kernelspec": {
      "name": "python3",
      "display_name": "Python 3"
    },
    "language_info": {
      "name": "python"
    }
  },
  "cells": [
    {
      "cell_type": "code",
      "metadata": {
        "id": "n39etY2ZtoK1"
      },
      "source": [
        "import numpy as np\n",
        "import pandas as pd\n",
        "from flask import Flask, request, jsonify, render_template\n",
        "import pickle"
      ],
      "execution_count": 1,
      "outputs": []
    },
    {
      "cell_type": "code",
      "metadata": {
        "colab": {
          "base_uri": "https://localhost:8080/"
        },
        "id": "_Zr3yIz7ts7t",
        "outputId": "a7bc9538-a4e0-45f8-8c6e-ebbf90dbc230"
      },
      "source": [
        "app = Flask(__name__)\n",
        "model = pickle.load(open('model.pkl', 'rb'))"
      ],
      "execution_count": 2,
      "outputs": [
        {
          "output_type": "stream",
          "text": [
            "[04:42:43] WARNING: /workspace/src/objective/regression_obj.cu:152: reg:linear is now deprecated in favor of reg:squarederror.\n"
          ],
          "name": "stdout"
        }
      ]
    },
    {
      "cell_type": "code",
      "metadata": {
        "id": "SYMSNQLWtwqj"
      },
      "source": [
        "df = pd.read_csv('Sales.csv')"
      ],
      "execution_count": 3,
      "outputs": []
    },
    {
      "cell_type": "code",
      "metadata": {
        "id": "XA7Hh5fJt4zW"
      },
      "source": [
        "df.drop(['User_ID', 'Product_ID', 'Gender', 'City_Category', \n",
        "            'Marital_Status', 'Product_Category_3'], axis = 1, inplace = True)"
      ],
      "execution_count": 4,
      "outputs": []
    },
    {
      "cell_type": "code",
      "metadata": {
        "id": "fhJmAHsPuAQ_"
      },
      "source": [
        "df['Product_Category_2'].fillna(df['Product_Category_2'].median(), inplace = True)"
      ],
      "execution_count": 5,
      "outputs": []
    },
    {
      "cell_type": "code",
      "metadata": {
        "id": "S33-a-DSuC_w"
      },
      "source": [
        "df['Product_Category_2'] = df['Product_Category_2'].astype('int')"
      ],
      "execution_count": 6,
      "outputs": []
    },
    {
      "cell_type": "code",
      "metadata": {
        "id": "4YbdTZQxuH2S"
      },
      "source": [
        "df['Stay_In_Current_City_Years'] = df['Stay_In_Current_City_Years'].apply(lambda x : str(x).replace('4+', '4'))"
      ],
      "execution_count": 7,
      "outputs": []
    },
    {
      "cell_type": "code",
      "metadata": {
        "id": "M6dyO-77uLe3"
      },
      "source": [
        "from sklearn import preprocessing \n",
        "le = preprocessing.LabelEncoder()"
      ],
      "execution_count": 8,
      "outputs": []
    },
    {
      "cell_type": "code",
      "metadata": {
        "id": "u0BjzJEYuOEA"
      },
      "source": [
        "df['Stay_In_Current_City_Years']=le.fit_transform(df['Stay_In_Current_City_Years'])"
      ],
      "execution_count": 9,
      "outputs": []
    },
    {
      "cell_type": "code",
      "metadata": {
        "id": "3CK9StC1urmZ"
      },
      "source": [
        "df['Age'] = df['Age'].map(\n",
        "                            {'0-17' : 1,\n",
        "                             '18-25' : 2,\n",
        "                             '26-35' : 3,\n",
        "                             '36-45' : 4,\n",
        "                             '46-50' : 5,\n",
        "                             '51-55' : 6,\n",
        "                             '55+' : 7\n",
        "                             })"
      ],
      "execution_count": 10,
      "outputs": []
    },
    {
      "cell_type": "code",
      "metadata": {
        "id": "Vb8PXvrOuvc_"
      },
      "source": [
        "X = df.drop('Purchase', axis = 1)\n",
        "Y = df['Purchase']"
      ],
      "execution_count": 11,
      "outputs": []
    },
    {
      "cell_type": "code",
      "metadata": {
        "id": "uH5h0KLNuxrK"
      },
      "source": [
        "from sklearn.preprocessing import StandardScaler\n",
        "scaler = StandardScaler()"
      ],
      "execution_count": 12,
      "outputs": []
    },
    {
      "cell_type": "code",
      "metadata": {
        "id": "lIKjBHAwuz4z"
      },
      "source": [
        "X = scaler.fit_transform(X)"
      ],
      "execution_count": 13,
      "outputs": []
    },
    {
      "cell_type": "code",
      "metadata": {
        "id": "rI-js53Gu0-g"
      },
      "source": [
        "@app.route('/')\n",
        "def home():\n",
        "    return render_template('index.html')"
      ],
      "execution_count": 14,
      "outputs": []
    },
    {
      "cell_type": "code",
      "metadata": {
        "id": "xvjkuJpwvW9E"
      },
      "source": [
        "@app.route('/predict',methods=['POST'])\n",
        "def predict():\n",
        "    \n",
        "    if request.method == 'POST':\n",
        "        age = request.form['Age']\n",
        "        age = int(age)\n",
        "        \n",
        "        age_value = 0\n",
        "        \n",
        "        if age >= 0 and age <= 17:\n",
        "            age_value = 1\n",
        "        elif age >= 18 and age <= 25:\n",
        "            age_value = 2\n",
        "        elif age >= 26 and age <= 35:\n",
        "            age_value = 3\n",
        "        elif age >= 36 and age <= 45:\n",
        "            age_value = 4\n",
        "        elif age >= 46 and age <= 50:\n",
        "            age_value = 5\n",
        "        elif age >= 51 and age <= 55:\n",
        "            age_value = 6\n",
        "        elif age >= 56:\n",
        "            age_value = 7\n",
        "            \n",
        "        occupation_value = request.form['Occupation Code']\n",
        "        stay_in_city_value = request.form['Stay in Current City']\n",
        "        pro_cat_1_value = request.form['Product Category 1']\n",
        "        pro_cat_2_value = request.form['Product Category 2']\n",
        "    \n",
        "    features = [age_value, occupation_value, stay_in_city_value, \n",
        "                    pro_cat_1_value, pro_cat_2_value]\n",
        "        \n",
        "    int_features = [int(x) for x in features]\n",
        "    final_features = [np.array(int_features)]\n",
        "    prediction = model.predict(scaler.transform(final_features))\n",
        "\n",
        "    return render_template('index.html', prediction_text='Purchase amount: {}$'.format(round(prediction[0]) ))"
      ],
      "execution_count": 15,
      "outputs": []
    },
    {
      "cell_type": "code",
      "metadata": {
        "id": "kIbaBgApv4SX"
      },
      "source": [
        "if __name__ == \"__main__\":\n",
        "    app.run(debug=True,use_reloader=False)"
      ],
      "execution_count": null,
      "outputs": []
    }
  ]
}